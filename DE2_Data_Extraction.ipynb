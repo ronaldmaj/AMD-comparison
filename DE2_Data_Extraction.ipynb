{
 "cells": [
  {
   "cell_type": "code",
   "execution_count": 1,
   "metadata": {},
   "outputs": [],
   "source": [
    "# Import packages\n",
    "\n",
    "from pathlib import Path\n",
    "#import sys\n",
    "import ftplib\n",
    "import io\n",
    "import os\n",
    "#import time"
   ]
  },
  {
   "cell_type": "code",
   "execution_count": 2,
   "metadata": {},
   "outputs": [
    {
     "data": {
      "text/plain": [
       "'230 Anonymous access granted, restrictions apply'"
      ]
     },
     "execution_count": 2,
     "metadata": {},
     "output_type": "execute_result"
    }
   ],
   "source": [
    "url = 'cdaweb.gsfc.nasa.gov'\n",
    "directory = '/pub/data/de/de2/combined_plasma_neutrals_ua/'\n",
    "\n",
    "ftp = ftplib.FTP(url)\n",
    "ftp.login()"
   ]
  },
  {
   "cell_type": "code",
   "execution_count": 3,
   "metadata": {},
   "outputs": [
    {
     "data": {
      "text/plain": [
       "'250 CWD command successful'"
      ]
     },
     "execution_count": 3,
     "metadata": {},
     "output_type": "execute_result"
    }
   ],
   "source": [
    "ftp.cwd(directory)"
   ]
  },
  {
   "cell_type": "code",
   "execution_count": 4,
   "metadata": {},
   "outputs": [],
   "source": [
    "# Function to list the files and directories in a given list 'nlst'.\n",
    "def find_all_files_dirs(nlst,files,dirs):\n",
    "    for item in nlst:\n",
    "        if \".\" in item:\n",
    "            files.append(item)\n",
    "        else:\n",
    "            if item+'/' in dirs:\n",
    "                pass\n",
    "            else:\n",
    "                dirs.append(item+'/')\n",
    "    return files, dirs\n",
    "\n",
    "# Function to find all directories and files from pwd of the ftp\n",
    "def file_dirs_lists():\n",
    "    files_list = []\n",
    "    dirs_list = ['']\n",
    "    for dire in dirs_list:\n",
    "        files_list, dirs_list = find_all_files_dirs(ftp.nlst(dire),files_list,dirs_list)\n",
    "    return files_list, dirs_list\n",
    "\n",
    "\n",
    "last3 = []\n",
    "# Function to create directories and files, mirroring that on the FTP server. Add prefix 'prf' to all paths:\n",
    "def dwnld_mirror_ftp(prf=''): \n",
    "    # Get list of new files and new directories from ftp server\n",
    "    n_files, n_dirs = file_dirs_lists()\n",
    "    \n",
    "    # Create directories if they don't already exist:\n",
    "    if Path(Path.cwd(),prf).exists():\n",
    "        pass\n",
    "    else:\n",
    "        Path(Path.cwd(),prf).mkdir(parents=True, exist_ok=True)\n",
    "\n",
    "    for dire in n_dirs:\n",
    "        dir_path = Path(Path.cwd(),prf+dire)\n",
    "        if dir_path.exists():\n",
    "            pass\n",
    "        else:\n",
    "            dir_path.mkdir(parents=True, exist_ok=True)\n",
    "    \n",
    "    # Keep track of last 3 files\n",
    "    global last3\n",
    "    \n",
    "    # Download files if they don't exist:\n",
    "    for file in n_files:\n",
    "        local_path = Path(Path.cwd(),prf+file)\n",
    "        \n",
    "        if len(last3)<3:\n",
    "            last3.append(local_path)\n",
    "        else:\n",
    "            last3.pop(0)\n",
    "            last3.append(local_path)\n",
    "        \n",
    "        if local_path.exists():\n",
    "            pass\n",
    "        else:\n",
    "            local_file = open(local_path, \"wb\")\n",
    "            ftp.retrbinary(\"RETR \" + file, local_file.write)\n",
    "            local_file.close()"
   ]
  },
  {
   "cell_type": "code",
   "execution_count": 5,
   "metadata": {
    "scrolled": false
   },
   "outputs": [],
   "source": [
    "dwnld_mirror_ftp(prf='combined_plasma_neutrals_ua/')"
   ]
  },
  {
   "cell_type": "code",
   "execution_count": 6,
   "metadata": {},
   "outputs": [
    {
     "data": {
      "text/plain": [
       "WindowsPath('C:/Users/Ronald Maj/Sat_data/DE2')"
      ]
     },
     "execution_count": 6,
     "metadata": {},
     "output_type": "execute_result"
    }
   ],
   "source": [
    "Path.cwd()"
   ]
  },
  {
   "cell_type": "code",
   "execution_count": 6,
   "metadata": {},
   "outputs": [],
   "source": [
    "# Unfortunately the combined data has total ion density, and therefore the \n",
    "# mass density cannot be determine as the individual species are not known.\n",
    "\n",
    "# Need to download the individual instruments - NACS and RPA\n"
   ]
  },
  {
   "cell_type": "code",
   "execution_count": 7,
   "metadata": {},
   "outputs": [],
   "source": [
    "# NACS directory\n",
    "directory_nacs = '/pub/data/de/de2/neutral_gas_nacs/'\n",
    "# RPA directory\n",
    "directory_rpa = '/pub/data/de/de2/plasma_rpa/'\n"
   ]
  },
  {
   "cell_type": "code",
   "execution_count": 8,
   "metadata": {},
   "outputs": [],
   "source": [
    "ftp.cwd(directory_nacs)\n",
    "dwnld_mirror_ftp(prf='neutral_gas_nacs/')"
   ]
  },
  {
   "cell_type": "code",
   "execution_count": 9,
   "metadata": {},
   "outputs": [
    {
     "data": {
      "text/plain": [
       "[WindowsPath('C:/Users/Ronald Maj/Sat_data/DE2/neutral_gas_nacs/n_T_1s_ascii/data/attrib/1981336T203820_0_DE2_NACS_1S_V01.ASC_att'),\n",
       " WindowsPath('C:/Users/Ronald Maj/Sat_data/DE2/neutral_gas_nacs/n_T_1s_ascii/data/attrib/1982110T110500_0_DE2_NACS_1S_V01.ASC_att'),\n",
       " WindowsPath('C:/Users/Ronald Maj/Sat_data/DE2/neutral_gas_nacs/n_T_1s_ascii/data/attrib/1982195T191320_0_DE2_NACS_1S_V01.ASC_att')]"
      ]
     },
     "execution_count": 9,
     "metadata": {},
     "output_type": "execute_result"
    }
   ],
   "source": [
    "last3"
   ]
  },
  {
   "cell_type": "code",
   "execution_count": 10,
   "metadata": {},
   "outputs": [
    {
     "ename": "KeyboardInterrupt",
     "evalue": "",
     "output_type": "error",
     "traceback": [
      "\u001b[1;31m---------------------------------------------------------------------------\u001b[0m",
      "\u001b[1;31mKeyboardInterrupt\u001b[0m                         Traceback (most recent call last)",
      "\u001b[1;32m<ipython-input-10-32d262df934c>\u001b[0m in \u001b[0;36m<module>\u001b[1;34m\u001b[0m\n\u001b[0;32m      1\u001b[0m \u001b[0mftp\u001b[0m\u001b[1;33m.\u001b[0m\u001b[0mcwd\u001b[0m\u001b[1;33m(\u001b[0m\u001b[0mdirectory_rpa\u001b[0m\u001b[1;33m)\u001b[0m\u001b[1;33m\u001b[0m\u001b[0m\n\u001b[1;32m----> 2\u001b[1;33m \u001b[0mdwnld_mirror_ftp\u001b[0m\u001b[1;33m(\u001b[0m\u001b[0mprf\u001b[0m\u001b[1;33m=\u001b[0m\u001b[1;34m'plasma_rpa/'\u001b[0m\u001b[1;33m)\u001b[0m\u001b[1;33m\u001b[0m\u001b[0m\n\u001b[0m",
      "\u001b[1;32m<ipython-input-4-26aa12b32064>\u001b[0m in \u001b[0;36mdwnld_mirror_ftp\u001b[1;34m(prf)\u001b[0m\n\u001b[0;32m     56\u001b[0m         \u001b[1;32melse\u001b[0m\u001b[1;33m:\u001b[0m\u001b[1;33m\u001b[0m\u001b[0m\n\u001b[0;32m     57\u001b[0m             \u001b[0mlocal_file\u001b[0m \u001b[1;33m=\u001b[0m \u001b[0mopen\u001b[0m\u001b[1;33m(\u001b[0m\u001b[0mlocal_path\u001b[0m\u001b[1;33m,\u001b[0m \u001b[1;34m\"wb\"\u001b[0m\u001b[1;33m)\u001b[0m\u001b[1;33m\u001b[0m\u001b[0m\n\u001b[1;32m---> 58\u001b[1;33m             \u001b[0mftp\u001b[0m\u001b[1;33m.\u001b[0m\u001b[0mretrbinary\u001b[0m\u001b[1;33m(\u001b[0m\u001b[1;34m\"RETR \"\u001b[0m \u001b[1;33m+\u001b[0m \u001b[0mfile\u001b[0m\u001b[1;33m,\u001b[0m \u001b[0mlocal_file\u001b[0m\u001b[1;33m.\u001b[0m\u001b[0mwrite\u001b[0m\u001b[1;33m)\u001b[0m\u001b[1;33m\u001b[0m\u001b[0m\n\u001b[0m\u001b[0;32m     59\u001b[0m             \u001b[0mlocal_file\u001b[0m\u001b[1;33m.\u001b[0m\u001b[0mclose\u001b[0m\u001b[1;33m(\u001b[0m\u001b[1;33m)\u001b[0m\u001b[1;33m\u001b[0m\u001b[0m\n",
      "\u001b[1;32m~\\AppData\\Local\\conda\\conda\\envs\\TDI-Challenge\\lib\\ftplib.py\u001b[0m in \u001b[0;36mretrbinary\u001b[1;34m(self, cmd, callback, blocksize, rest)\u001b[0m\n\u001b[0;32m    442\u001b[0m         \u001b[1;32mwith\u001b[0m \u001b[0mself\u001b[0m\u001b[1;33m.\u001b[0m\u001b[0mtransfercmd\u001b[0m\u001b[1;33m(\u001b[0m\u001b[0mcmd\u001b[0m\u001b[1;33m,\u001b[0m \u001b[0mrest\u001b[0m\u001b[1;33m)\u001b[0m \u001b[1;32mas\u001b[0m \u001b[0mconn\u001b[0m\u001b[1;33m:\u001b[0m\u001b[1;33m\u001b[0m\u001b[0m\n\u001b[0;32m    443\u001b[0m             \u001b[1;32mwhile\u001b[0m \u001b[1;36m1\u001b[0m\u001b[1;33m:\u001b[0m\u001b[1;33m\u001b[0m\u001b[0m\n\u001b[1;32m--> 444\u001b[1;33m                 \u001b[0mdata\u001b[0m \u001b[1;33m=\u001b[0m \u001b[0mconn\u001b[0m\u001b[1;33m.\u001b[0m\u001b[0mrecv\u001b[0m\u001b[1;33m(\u001b[0m\u001b[0mblocksize\u001b[0m\u001b[1;33m)\u001b[0m\u001b[1;33m\u001b[0m\u001b[0m\n\u001b[0m\u001b[0;32m    445\u001b[0m                 \u001b[1;32mif\u001b[0m \u001b[1;32mnot\u001b[0m \u001b[0mdata\u001b[0m\u001b[1;33m:\u001b[0m\u001b[1;33m\u001b[0m\u001b[0m\n\u001b[0;32m    446\u001b[0m                     \u001b[1;32mbreak\u001b[0m\u001b[1;33m\u001b[0m\u001b[0m\n",
      "\u001b[1;31mKeyboardInterrupt\u001b[0m: "
     ]
    }
   ],
   "source": [
    "ftp.cwd(directory_rpa)\n",
    "dwnld_mirror_ftp(prf='plasma_rpa/')"
   ]
  },
  {
   "cell_type": "code",
   "execution_count": 17,
   "metadata": {},
   "outputs": [],
   "source": [
    "directory_rpa2s = '/pub/data/de/de2/plasma_rpa/ion2s_cdaweb/'"
   ]
  },
  {
   "cell_type": "code",
   "execution_count": 21,
   "metadata": {},
   "outputs": [],
   "source": [
    "ftp.cwd(directory_rpa2s)\n",
    "dwnld_mirror_ftp(prf='plasma_rpa/ion2s_cdaweb/')"
   ]
  },
  {
   "cell_type": "code",
   "execution_count": null,
   "metadata": {},
   "outputs": [],
   "source": []
  }
 ],
 "metadata": {
  "kernelspec": {
   "display_name": "Python 3",
   "language": "python",
   "name": "python3"
  },
  "language_info": {
   "codemirror_mode": {
    "name": "ipython",
    "version": 3
   },
   "file_extension": ".py",
   "mimetype": "text/x-python",
   "name": "python",
   "nbconvert_exporter": "python",
   "pygments_lexer": "ipython3",
   "version": "3.6.6"
  }
 },
 "nbformat": 4,
 "nbformat_minor": 2
}
